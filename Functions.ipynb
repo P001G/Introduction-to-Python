{
 "cells": [
  {
   "cell_type": "code",
   "execution_count": 7,
   "metadata": {},
   "outputs": [
    {
     "data": {
      "text/plain": [
       "226576"
      ]
     },
     "execution_count": 7,
     "metadata": {},
     "output_type": "execute_result"
    }
   ],
   "source": [
    "# this a function\n",
    "# discuss more on markown and readme\n",
    "def summer(x,y):\n",
    "    \"\"\"takes in x (int) and y(float)# docstrings\n",
    "    returns x + y \"\"\"\n",
    "    return x+  y\n",
    "def greet(firstname,lastname):\n",
    "    \"\"\"Takes your first and last name and greet you\"\"\"\n",
    "    return \"Hello, {} {}; How are you doing?\".format(firstname,lastname)\n",
    "def power(n):\n",
    "    \"\"\"takes a number and returns the number power 2\"\"\"\n",
    "    return n**2\n",
    "# greet(\"Paul\",\"Gakingo\")\n",
    "power(476)"
   ]
  },
  {
   "cell_type": "code",
   "execution_count": 18,
   "metadata": {},
   "outputs": [
    {
     "name": "stdout",
     "output_type": "stream",
     "text": [
      "-9947\n",
      "-722\n",
      "1453\n",
      "494\n",
      "53\n",
      "-7.160000000000764\n",
      "7.910000000000764\n"
     ]
    }
   ],
   "source": [
    "# Lets say we have anumber and we want to get the square root\n",
    "\n",
    "n = 5678\n",
    "# LETS make a guess\n",
    "guess = 125\n",
    "y1 = power(guess)\n",
    "difference = n-y1 # if its negative its bigger if positive its sammar\n",
    "print(difference)\n",
    "\n",
    "# adjustment\n",
    "guess = 80\n",
    "y1 = power(guess)\n",
    "difference = n-y1 # if its negative its bigger if positive its sammar\n",
    "print(difference)\n",
    "\n",
    "# adjustment\n",
    "guess = 65\n",
    "y1 = power(guess)\n",
    "difference = n-y1 # if its negative its bigger if positive its sammar\n",
    "print(difference)\n",
    "\n",
    "# adjustment\n",
    "guess = 72\n",
    "y1 = power(guess)\n",
    "difference = n-y1 # if its negative its bigger if positive its sammar\n",
    "print(difference)\n",
    "\n",
    "# adjustment\n",
    "guess = 75\n",
    "y1 = power(guess)\n",
    "difference = n-y1 # if its negative its bigger if positive its sammar\n",
    "print(difference)\n",
    "\n",
    "# adjustment\n",
    "guess = 75.4\n",
    "y1 = power(guess)\n",
    "difference = n-y1 # if its negative its bigger if positive its sammar\n",
    "print(difference)\n",
    "\n",
    "# adjustment\n",
    "guess = 75.3\n",
    "y1 = power(guess)\n",
    "difference = n-y1 # if its negative its bigger if positive its sammar\n",
    "print(difference)"
   ]
  },
  {
   "cell_type": "code",
   "execution_count": 19,
   "metadata": {},
   "outputs": [
    {
     "data": {
      "text/plain": [
       "5670.089999999999"
      ]
     },
     "execution_count": 19,
     "metadata": {},
     "output_type": "execute_result"
    }
   ],
   "source": [
    "# test - create a function that uses the above method to guess the quareroot\n"
   ]
  },
  {
   "cell_type": "code",
   "execution_count": 24,
   "metadata": {},
   "outputs": [
    {
     "name": "stdout",
     "output_type": "stream",
     "text": [
      "------------------------------------------------------------\n",
      "Google INC\n",
      "James\n",
      "------------------------------------------------------------\n",
      "salary:     23000\n",
      "PAYE: 6900.0\n",
      "Housing levy: 345.0\n",
      "NHIF 500\n",
      "Total deductions (7745.0)\n",
      "Net Salary: 16255.0\n",
      "++++++++++++++++++++++++++++++++++++++++++++++++++++++++++++++++++++++++++++++++++++++++++++++++++++++++++++++++++++++++++++++++++++++++++++++++++++++\n",
      "++++++++++++++++++++++++++++++++++++++++++++++++++++++++++++++++++++++++++++++++++++++++++++++++++++++++++++++++++++++++++++++++++++++++++++++++++++++\n",
      "------------------------------------------------------------\n",
      "Google INC\n",
      "Alex\n",
      "------------------------------------------------------------\n",
      "salary:     1000000\n",
      "PAYE: 300000.0\n",
      "Housing levy: 15000.0\n",
      "NHIF 500\n",
      "Total deductions (315500.0)\n",
      "Net Salary: 685500.0\n",
      "++++++++++++++++++++++++++++++++++++++++++++++++++++++++++++++++++++++++++++++++++++++++++++++++++++++++++++++++++++++++++++++++++++++++++++++++++++++\n",
      "++++++++++++++++++++++++++++++++++++++++++++++++++++++++++++++++++++++++++++++++++++++++++++++++++++++++++++++++++++++++++++++++++++++++++++++++++++++\n",
      "------------------------------------------------------------\n",
      "Google INC\n",
      "Kim\n",
      "------------------------------------------------------------\n",
      "salary:     5600\n",
      "PAYE: 1680.0\n",
      "Housing levy: 84.0\n",
      "NHIF 500\n",
      "Total deductions (2264.0)\n",
      "Net Salary: 4336.0\n",
      "++++++++++++++++++++++++++++++++++++++++++++++++++++++++++++++++++++++++++++++++++++++++++++++++++++++++++++++++++++++++++++++++++++++++++++++++++++++\n",
      "++++++++++++++++++++++++++++++++++++++++++++++++++++++++++++++++++++++++++++++++++++++++++++++++++++++++++++++++++++++++++++++++++++++++++++++++++++++\n",
      "------------------------------------------------------------\n",
      "Google INC\n",
      "Paul\n",
      "------------------------------------------------------------\n",
      "salary:     123567\n",
      "PAYE: 37070.1\n",
      "Housing levy: 1853.5049999999999\n",
      "NHIF 500\n",
      "Total deductions (39423.605)\n",
      "Net Salary: 85143.39499999999\n",
      "++++++++++++++++++++++++++++++++++++++++++++++++++++++++++++++++++++++++++++++++++++++++++++++++++++++++++++++++++++++++++++++++++++++++++++++++++++++\n",
      "++++++++++++++++++++++++++++++++++++++++++++++++++++++++++++++++++++++++++++++++++++++++++++++++++++++++++++++++++++++++++++++++++++++++++++++++++++++\n"
     ]
    }
   ],
   "source": [
    "names    = ['James','Alex','Kim','Paul']\n",
    "salaries = [23000,1000000,5600,123567]\n",
    "paye = 0.3# 30%\n",
    "deduction = 0.015#housing levy\n",
    "NHIF = 500# deduction\n",
    " # print a payslip for all the  salaries \n",
    "# for loop to slove the problem\n",
    "for name,sal  in zip(names,salaries):\n",
    "    print('--'*30)\n",
    "    print('Google INC')\n",
    "    print(name)\n",
    "    print('--'*30)\n",
    "    print(\"salary:    \",sal)\n",
    "    print('PAYE:',paye*sal)\n",
    "    print('Housing levy:',sal*deduction)\n",
    "    print('NHIF',NHIF)\n",
    "    print(f\"Total deductions ({(paye+deduction)*sal + NHIF})\")\n",
    "    print(f'Net Salary: {sal - (paye+deduction)*sal + NHIF}')\n",
    "    print(\"+++\"*50)\n",
    "    print(\"+++\"*50)\n",
    "\n",
    "\n",
    "# function that given a name, salary - print out the pay slip"
   ]
  },
  {
   "cell_type": "code",
   "execution_count": null,
   "metadata": {},
   "outputs": [],
   "source": []
  }
 ],
 "metadata": {
  "kernelspec": {
   "display_name": "Python 3",
   "language": "python",
   "name": "python3"
  },
  "language_info": {
   "codemirror_mode": {
    "name": "ipython",
    "version": 3
   },
   "file_extension": ".py",
   "mimetype": "text/x-python",
   "name": "python",
   "nbconvert_exporter": "python",
   "pygments_lexer": "ipython3",
   "version": "3.11.4"
  }
 },
 "nbformat": 4,
 "nbformat_minor": 2
}
