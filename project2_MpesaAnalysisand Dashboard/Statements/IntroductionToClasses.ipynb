{
 "cells": [
  {
   "cell_type": "code",
   "execution_count": 12,
   "metadata": {},
   "outputs": [],
   "source": [
    "# classes are the building blocks of python ->, data structures, function etc\n",
    "# Encapsulation - hide some information/ internal state\n",
    "# Inheritance -  where the child object inherits the parent information\n",
    "# polymorphism - the child can be modified\n",
    "# Abstraction\n",
    "\n",
    "class Employee:\n",
    "    def __init__(self,name,gender,employeenumber,salary): # dunder\n",
    "        self.name = name\n",
    "        self.gender = gender\n",
    "        self.number = employeenumber\n",
    "        self.salary = salary\n",
    "    def Printinfo(self):\n",
    "        print('--'*30)\n",
    "        print('Name: ',self.name)\n",
    "        print('Gender: ',self.gender)\n",
    "        print('Employee Number: ',self.number)\n",
    "        print('Salary: ',self.salary)\n",
    "        "
   ]
  },
  {
   "cell_type": "code",
   "execution_count": 10,
   "metadata": {},
   "outputs": [],
   "source": [
    "paul = Employee(name = \"Paul Mwangi\",\n",
    "                gender = \"M\",\n",
    "                employeenumber = '#234523',\n",
    "                salary = 50000)\n",
    "\n",
    "\n",
    "name = input(\"what is your name:\")\n",
    "gend = input(\"what is your gender:\")\n",
    "no = input(\"what is your employee number:\")\n",
    "sal = input(\"what is your salary:\")\n",
    "john = Employee(name = name,\n",
    "                gender = gend,\n",
    "                employeenumber = no,\n",
    "                salary = sal)\n"
   ]
  },
  {
   "cell_type": "code",
   "execution_count": 24,
   "metadata": {},
   "outputs": [],
   "source": [
    "\n",
    "class Employee:\n",
    "    def __init__(self,name,gender,employeenumber,salary): # dunder\n",
    "        self.name = name\n",
    "        self.gender = gender\n",
    "        self.number = employeenumber\n",
    "        self.salary = salary\n",
    "    def Printinfo(self):\n",
    "        print('--'*30)\n",
    "        print('Name: ',self.name)\n",
    "        print('Gender: ',self.gender)\n",
    "        print('Employee Number: ',self.number)\n",
    "        print('Salary: ',self.salary)\n",
    "        \n",
    "class Manager(Employee):\n",
    "    def __init__(self,name,gender,employeenumber,salary,managed):\n",
    "        super().__init__(name,gender,employeenumber,salary)\n",
    "        self.managed = managed\n",
    "    def ManagedEmployees(self):\n",
    "        print(\"Managed employees: \",self.managed)\n",
    "    def Getname(self):\n",
    "        first_name,last_name = self.name.split()\n",
    "        print(\"First name: \",first_name,\" Last name: \",last_name)\n",
    "        \n",
    "\n",
    "willy = Manager(name='Willy Paul', gender='Male', employeenumber='#1234', salary=75000,managed = ['john','paul'])\n"
   ]
  },
  {
   "cell_type": "code",
   "execution_count": 25,
   "metadata": {},
   "outputs": [
    {
     "name": "stdout",
     "output_type": "stream",
     "text": [
      "------------------------------------------------------------\n",
      "Name:  Willy Paul\n",
      "Gender:  Male\n",
      "Employee Number:  #1234\n",
      "Salary:  75000\n",
      "Managed employees:  ['john', 'paul']\n",
      "First name:  Willy  Last name:  Paul\n"
     ]
    }
   ],
   "source": [
    "willy.Printinfo()\n",
    "willy.ManagedEmployees()\n",
    "willy.Getname()\n"
   ]
  },
  {
   "cell_type": "code",
   "execution_count": null,
   "metadata": {},
   "outputs": [],
   "source": []
  }
 ],
 "metadata": {
  "kernelspec": {
   "display_name": "base",
   "language": "python",
   "name": "python3"
  },
  "language_info": {
   "codemirror_mode": {
    "name": "ipython",
    "version": 3
   },
   "file_extension": ".py",
   "mimetype": "text/x-python",
   "name": "python",
   "nbconvert_exporter": "python",
   "pygments_lexer": "ipython3",
   "version": "3.11.7"
  }
 },
 "nbformat": 4,
 "nbformat_minor": 2
}
