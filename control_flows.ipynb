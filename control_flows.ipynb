{
 "cells": [
  {
   "cell_type": "code",
   "execution_count": 5,
   "id": "733afb3d-b319-46a9-bed0-b0bdcec88526",
   "metadata": {},
   "outputs": [],
   "source": [
    "# how to use random\n",
    "import random\n",
    "salary = [random.randint(1000,10000) for i in range(40)]\n"
   ]
  },
  {
   "cell_type": "code",
   "execution_count": 8,
   "id": "6f7673a7-8acd-4b21-bb6e-00bf0bb8dfc7",
   "metadata": {},
   "outputs": [
    {
     "data": {
      "text/plain": [
       "12604"
      ]
     },
     "execution_count": 8,
     "metadata": {},
     "output_type": "execute_result"
    }
   ],
   "source": [
    "total = salary[0]+salary[1]+salary[3]\n",
    "total"
   ]
  },
  {
   "cell_type": "code",
   "execution_count": 7,
   "id": "0a01a016-53d2-4e2d-8f80-33ebf60b8d73",
   "metadata": {},
   "outputs": [
    {
     "name": "stdout",
     "output_type": "stream",
     "text": [
      "209534\n"
     ]
    }
   ],
   "source": [
    "# for loops - what are for loops\n",
    "# a way of checking through a list one by one\n",
    "total = 0\n",
    "for sal in salary:\n",
    "    total+=sal\n",
    "print(total)"
   ]
  },
  {
   "cell_type": "markdown",
   "id": "738a81c7",
   "metadata": {},
   "source": [
    "# <font color = \"darkorange\"> Salary Forloop</font>"
   ]
  },
  {
   "cell_type": "code",
   "execution_count": 8,
   "id": "f9a61833",
   "metadata": {},
   "outputs": [
    {
     "name": "stdout",
     "output_type": "stream",
     "text": [
      "[52127, 19678, 73223, 18158, 48337]\n",
      "['mid', 'low', 'high', 'low', 'mid']\n"
     ]
    }
   ],
   "source": [
    "# get the salaries\n",
    "import random\n",
    "# select 150 random salaries\n",
    "##list(range(0,10,2))\n",
    "salary = []\n",
    "type = [ ]\n",
    "for sal in range(150):\n",
    "    number =  random.randint(10000,100000)\n",
    "    salary.append(number)\n",
    "    # conditionals\n",
    "    # =IF(B2<20000,\"low\",IF(B2<70000,\"mid\",\"high\"))\n",
    "    if number<20000:\n",
    "        type.append('low')\n",
    "    elif number<70000:\n",
    "        type.append('mid')\n",
    "    else:\n",
    "        type.append('high')\n",
    "print(salary[0:5])\n",
    "print(type[:5])"
   ]
  },
  {
   "cell_type": "code",
   "execution_count": 15,
   "id": "a8619133",
   "metadata": {},
   "outputs": [
    {
     "name": "stdout",
     "output_type": "stream",
     "text": [
      "[1, 2, 3, 4, 5, 6, 7, 8, 9, 10]\n",
      "500500\n"
     ]
    }
   ],
   "source": [
    "numbers = list(range(1,1001))\n",
    "#sum(numbers)\n",
    "print(numbers[:10])\n",
    "total = 0\n",
    "for number in numbers:\n",
    "    #print(number)\n",
    "    total = total+number\n",
    "print(total)\n"
   ]
  },
  {
   "cell_type": "code",
   "execution_count": 38,
   "id": "7d672cd5",
   "metadata": {},
   "outputs": [],
   "source": [
    "# coin toss experiment\n",
    "n = 3000\n",
    "toss = []\n",
    "\n",
    "for tos  in range(n):\n",
    "    num = random.random()\n",
    "    # print(num)\n",
    "    if num<=0.5:\n",
    "        toss.append('H')\n",
    "    else:\n",
    "        toss.append('T')\n"
   ]
  },
  {
   "cell_type": "code",
   "execution_count": 37,
   "id": "3407b9c1",
   "metadata": {},
   "outputs": [],
   "source": [
    "# from collections import Counter\n",
    "# import pandas as pd\n",
    "# import plotly_express as px\n",
    "\n",
    "# sums = Counter(toss)\n",
    "# dy = pd.DataFrame(sums.keys(),columns = ['toss'])\n",
    "# dy['n'] = sums.values()\n",
    "# dy['perc'] =dy['n']/n\n",
    "# display(dy)\n",
    "# px.pie(dy,names = 'toss',values = 'perc')"
   ]
  },
  {
   "cell_type": "code",
   "execution_count": null,
   "id": "a2c447b9-54f1-4880-ac28-af8d3d299763",
   "metadata": {},
   "outputs": [],
   "source": [
    "# conditionals"
   ]
  },
  {
   "cell_type": "markdown",
   "id": "599f2ab2",
   "metadata": {},
   "source": [
    "# <font color = 'cyan'> Functions </font>\n",
    "\n",
    "$ y = f(x)$ # general form\n",
    "\n",
    "$ y = \\frac{x^2+x^3}{xy^n}$ # specific function\n",
    "\n",
    "$y = 10 * x$\n",
    "\n",
    "$y = \\sqrt(x)$"
   ]
  },
  {
   "cell_type": "code",
   "execution_count": 39,
   "id": "fa8eca8e-8dab-48ac-8386-778479ae6727",
   "metadata": {},
   "outputs": [
    {
     "name": "stdout",
     "output_type": "stream",
     "text": [
      "1000000\n"
     ]
    }
   ],
   "source": [
    "# functions\n",
    "def ten_x(x): # add the input (x)\n",
    "    return 10 * x # add the output (y)\n",
    "\n",
    "n = ten_x(100000)\n",
    "print(n)"
   ]
  },
  {
   "cell_type": "code",
   "execution_count": 42,
   "id": "fedbe576-ad75-4bf1-b928-94b2d3e1ae70",
   "metadata": {},
   "outputs": [
    {
     "data": {
      "text/plain": [
       "1.4142135623730951"
      ]
     },
     "execution_count": 42,
     "metadata": {},
     "output_type": "execute_result"
    }
   ],
   "source": [
    "def sqrt1(x):\n",
    "    return x ** 0.5\n",
    "sqrt1(100)\n",
    "sqrt1(2)"
   ]
  },
  {
   "cell_type": "code",
   "execution_count": null,
   "id": "f663e2bf",
   "metadata": {},
   "outputs": [],
   "source": [
    "# more complex functions"
   ]
  }
 ],
 "metadata": {
  "kernelspec": {
   "display_name": "Python 3 (ipykernel)",
   "language": "python",
   "name": "python3"
  },
  "language_info": {
   "codemirror_mode": {
    "name": "ipython",
    "version": 3
   },
   "file_extension": ".py",
   "mimetype": "text/x-python",
   "name": "python",
   "nbconvert_exporter": "python",
   "pygments_lexer": "ipython3",
   "version": "3.11.4"
  }
 },
 "nbformat": 4,
 "nbformat_minor": 5
}
