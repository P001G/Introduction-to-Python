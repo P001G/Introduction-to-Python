{
 "cells": [
  {
   "cell_type": "code",
   "execution_count": null,
   "metadata": {},
   "outputs": [
    {
     "name": "stdout",
     "output_type": "stream",
     "text": [
      "Hello, I am using python\n"
     ]
    }
   ],
   "source": [
    "print(\"Hello, I am using python\")"
   ]
  },
  {
   "cell_type": "code",
   "execution_count": null,
   "metadata": {},
   "outputs": [
    {
     "name": "stdout",
     "output_type": "stream",
     "text": [
      "<class 'float'>\n"
     ]
    }
   ],
   "source": [
    "a=1\n",
    "b=10\n",
    "a+b #a and b are integers\n",
    "c=10.5 #c is a float\n",
    "print (type(c))\n"
   ]
  },
  {
   "cell_type": "code",
   "execution_count": null,
   "metadata": {},
   "outputs": [
    {
     "name": "stdout",
     "output_type": "stream",
     "text": [
      "<class 'int'>\n"
     ]
    }
   ],
   "source": [
    "print(type(a))"
   ]
  },
  {
   "cell_type": "code",
   "execution_count": null,
   "metadata": {},
   "outputs": [
    {
     "name": "stdout",
     "output_type": "stream",
     "text": [
      "<class 'str'>\n"
     ]
    }
   ],
   "source": [
    "d=\"Paul m\"\n",
    "print(type(d))\n"
   ]
  },
  {
   "cell_type": "markdown",
   "metadata": {},
   "source": [
    "# Lists and dictionaries\n",
    "\n"
   ]
  },
  {
   "cell_type": "code",
   "execution_count": 2,
   "metadata": {},
   "outputs": [
    {
     "data": {
      "text/plain": [
       "[23, 'kamau', 3.7]"
      ]
     },
     "execution_count": 2,
     "metadata": {},
     "output_type": "execute_result"
    }
   ],
   "source": [
    "# a list is a collection of things\n",
    "names = [\"john\",\"alex\",\"wambui\",\"alicia\"]\n",
    "salary = [23555,2123,35416,19999]\n",
    "heights = [1.3,45,78,1]\n",
    "nameage = [\n",
    "    ['kamau','alex'],\n",
    "    [12,36]\n",
    "    ]\n",
    "mix = [23,\"kamau\",3.7]\n",
    "mix"
   ]
  },
  {
   "cell_type": "code",
   "execution_count": null,
   "metadata": {},
   "outputs": [],
   "source": [
    "# have some data/information\n",
    "# get a datastructure\n",
    "# maniulate the data\n",
    "# get outut  save outut   data structure, other other forms of media\n"
   ]
  },
  {
   "cell_type": "code",
   "execution_count": 21,
   "metadata": {},
   "outputs": [
    {
     "data": {
      "text/plain": [
       "'alicia'"
      ]
     },
     "execution_count": 21,
     "metadata": {},
     "output_type": "execute_result"
    }
   ],
   "source": [
    "# indexing\n",
    "names = [\"john\",\"alex\",\"wambui\",\"alicia\"] # indexing starts at zero\n",
    "# index\n",
    "names[1]\n",
    "names[3]\n",
    "# length\n",
    "len(names)# function\n",
    "# slicing\n",
    "names[1:3]\n",
    "names[3]\n"
   ]
  },
  {
   "cell_type": "code",
   "execution_count": 17,
   "metadata": {},
   "outputs": [
    {
     "data": {
      "text/plain": [
       "['john', 'wambui', 'alicia', 'smith']"
      ]
     },
     "execution_count": 17,
     "metadata": {},
     "output_type": "execute_result"
    }
   ],
   "source": [
    "# functions that you can use in lists\n",
    "names.append('smith') # add to a list\n",
    "names.pop(1)\n",
    "names"
   ]
  },
  {
   "cell_type": "code",
   "execution_count": 22,
   "metadata": {},
   "outputs": [
    {
     "name": "stdout",
     "output_type": "stream",
     "text": [
      "Object `names # more information on the objects` not found.\n"
     ]
    },
    {
     "data": {
      "text/plain": [
       "['alex', 'alicia', 'john', 'wambui']"
      ]
     },
     "execution_count": 22,
     "metadata": {},
     "output_type": "execute_result"
    }
   ],
   "source": [
    "?names # more information on the objects\n",
    "names.sort()\n",
    "names"
   ]
  },
  {
   "cell_type": "markdown",
   "metadata": {},
   "source": [
    "# dictionaries\n"
   ]
  },
  {
   "cell_type": "markdown",
   "metadata": {},
   "source": []
  },
  {
   "cell_type": "code",
   "execution_count": 24,
   "metadata": {},
   "outputs": [
    {
     "name": "stdout",
     "output_type": "stream",
     "text": [
      "2\n",
      "{'john': 27, 'kamau': 45}\n",
      "dict_keys(['john', 'kamau'])\n",
      "dict_values([27, 45])\n"
     ]
    }
   ],
   "source": [
    "# a dcitionaru is a key  value pair\n",
    "student = {'john':27,'kamau':45}\n",
    "print(len(student))\n",
    "print(student)\n",
    "print(student.keys())\n",
    "print(student.values())"
   ]
  },
  {
   "cell_type": "markdown",
   "metadata": {},
   "source": [
    "# <font color = 'darkgreen'>Assignment1</font>"
   ]
  },
  {
   "cell_type": "code",
   "execution_count": 25,
   "metadata": {},
   "outputs": [],
   "source": [
    "# create a list of ten names of your friend\n",
    "# print the last 3 friends\n",
    "# remove one of the friends\n",
    "# sort the list alphabetically\n",
    "# reverse the list\n",
    "# read more on the tuples,dictionaries,sets\n",
    "# attemt creating a dictionary, a tuple and a set"
   ]
  },
  {
   "cell_type": "markdown",
   "metadata": {},
   "source": [
    "# tuples\n",
    "# sets\n",
    "# arrays"
   ]
  }
 ],
 "metadata": {
  "kernelspec": {
   "display_name": "Python 3",
   "language": "python",
   "name": "python3"
  },
  "language_info": {
   "codemirror_mode": {
    "name": "ipython",
    "version": 3
   },
   "file_extension": ".py",
   "mimetype": "text/x-python",
   "name": "python",
   "nbconvert_exporter": "python",
   "pygments_lexer": "ipython3",
   "version": "3.11.4"
  }
 },
 "nbformat": 4,
 "nbformat_minor": 2
}
