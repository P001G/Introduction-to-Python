{
 "cells": [
  {
   "cell_type": "code",
   "execution_count": 1,
   "metadata": {},
   "outputs": [
    {
     "name": "stdout",
     "output_type": "stream",
     "text": [
      "['jimmy', 'john', 'njuguna', 'lucy', 'buch', 'bruno', 'adriana', 'adela', 'adolfo', 'edwina', 'zack']\n",
      "['jimmy', 'john', 'njuguna', 'lucy', 'bruno', 'adriana', 'adela', 'adolfo', 'edwina', 'zack']\n",
      "['adela', 'adolfo', 'adriana', 'bruno', 'edwina', 'jimmy', 'john', 'lucy', 'njuguna', 'zack']\n",
      "['zack', 'njuguna', 'lucy', 'john', 'jimmy', 'edwina', 'bruno', 'adriana', 'adolfo', 'adela']\n"
     ]
    }
   ],
   "source": [
    "friends = ['jimmy','john','njuguna','lucy','buch','bruno','adriana','adela','adolfo','edwina','zack']\n",
    "print(friends)\n",
    "friends[8:]\n",
    "friends.pop(4)\n",
    "print(friends)\n",
    "friends.sort()\n",
    "print(friends)\n",
    "friends.reverse()\n",
    "print(friends)"
   ]
  },
  {
   "cell_type": "code",
   "execution_count": 2,
   "metadata": {},
   "outputs": [
    {
     "name": "stdout",
     "output_type": "stream",
     "text": [
      "[280, 150, 200, 900, 65, 30, 15]\n"
     ]
    }
   ],
   "source": [
    "#Assignment on dictionaries\n",
    "supermarket = {\n",
    "    'unga':270,'sugar':300,'sweets':50,'ruler':30, 'bread':65,'water':200,'pencil':15,'omo':900,'kiwi':70,'bucket':280,'mop':150\n",
    "}\n",
    "purchase_list= [supermarket['bucket'],supermarket['mop'],supermarket['water'],supermarket['omo'],supermarket['bread'],supermarket['ruler'],supermarket['pencil']]\n",
    "print(purchase_list)\n",
    "total=supermarket['bucket']+supermarket['mop']+supermarket['water']+supermarket['omo']+supermarket['bread']+supermarket['ruler']+supermarket['pencil']"
   ]
  },
  {
   "cell_type": "code",
   "execution_count": 9,
   "metadata": {},
   "outputs": [
    {
     "name": "stdout",
     "output_type": "stream",
     "text": [
      "------------------------------------------------------------\n",
      "Usichoke supermarket\n",
      "------------------------------------------------------------\n",
      "  Item    Quantity    Unit Price     Amount  \n",
      "  ----     -----       ---------     -------\n",
      "  Bucket      1   280 280\n",
      "  Mop         3   150 450\n",
      "  Water       1   200 200\n",
      "  Omo         2   900 1800\n",
      "  Bread       6   65 390\n",
      "  Ruler       2   30 60\n",
      "  Pencil      5   15 75\n",
      "------------------------------------------------------------\n",
      "  Total 3255\n",
      "------------------------------------------------------------\n"
     ]
    }
   ],
   "source": [
    "print('--'*30)\n",
    "print('Usichoke supermarket')\n",
    "print('--'*30)\n",
    "print(\"  Item    Quantity    Unit Price     Amount  \")\n",
    "print(\"  ----     -----       ---------     -------\")\n",
    "print('  Bucket  ','   1  ',   supermarket['bucket'],      1*supermarket['bucket'])\n",
    "print('  Mop  ','      3  ',   supermarket['mop'],         3*supermarket['mop'])\n",
    "print('  Water  ','    1  ',   supermarket['water'],       1*supermarket['water'])\n",
    "print('  Omo  ','      2  ',   supermarket['omo'],         2*supermarket['omo'])\n",
    "print('  Bread  ','    6  ',   supermarket['bread'],       6*supermarket['bread'])\n",
    "print('  Ruler  ','    2  ',   supermarket['ruler'],       2*supermarket['ruler'])\n",
    "print('  Pencil  ','   5  ',   supermarket['pencil'],      5*supermarket['pencil'])\n",
    "print('--'*30)\n",
    "tot=1*supermarket['bucket']+3*supermarket['mop']+1*supermarket['water']+2*supermarket['omo']+6*supermarket['bread']+2*supermarket['ruler']+5*supermarket['pencil']\n",
    "print('  Total',                                       tot)\n",
    "print('--'*30)\n",
    "#Was trying to create spaces on my receipt but the same is not working"
   ]
  }
 ],
 "metadata": {
  "kernelspec": {
   "display_name": "Python 3",
   "language": "python",
   "name": "python3"
  },
  "language_info": {
   "codemirror_mode": {
    "name": "ipython",
    "version": 3
   },
   "file_extension": ".py",
   "mimetype": "text/x-python",
   "name": "python",
   "nbconvert_exporter": "python",
   "pygments_lexer": "ipython3",
   "version": "3.12.2"
  }
 },
 "nbformat": 4,
 "nbformat_minor": 2
}
