{
 "cells": [
  {
   "cell_type": "code",
   "execution_count": 2,
   "id": "efd51f87-c2c7-44a8-8880-d2748b1cab44",
   "metadata": {},
   "outputs": [
    {
     "name": "stdin",
     "output_type": "stream",
     "text": [
      "what is your name paul\n"
     ]
    },
    {
     "name": "stdout",
     "output_type": "stream",
     "text": [
      "your name is : paul\n"
     ]
    }
   ],
   "source": [
    "name = input(\"what is your name\")\n",
    "print(\"your name is :\",name)"
   ]
  },
  {
   "cell_type": "code",
   "execution_count": 4,
   "id": "d0c8f32f-914a-461a-8c44-1165d85af53f",
   "metadata": {},
   "outputs": [
    {
     "name": "stdout",
     "output_type": "stream",
     "text": [
      "welcome explorer to our BMI game\n",
      "we shall ask you afew questions to get to know you\n",
      "please aswer the questions as truthfully as possible!!\n"
     ]
    },
    {
     "name": "stdin",
     "output_type": "stream",
     "text": [
      "what is your names John Kamau\n",
      "what is your age: 34\n",
      "what is your height in meters: 2.0\n"
     ]
    },
    {
     "ename": "TypeError",
     "evalue": "'>' not supported between instances of 'str' and 'float'",
     "output_type": "error",
     "traceback": [
      "\u001b[1;31m---------------------------------------------------------------------------\u001b[0m",
      "\u001b[1;31mTypeError\u001b[0m                                 Traceback (most recent call last)",
      "Cell \u001b[1;32mIn[4], line 16\u001b[0m\n\u001b[0;32m     14\u001b[0m \u001b[38;5;28mprint\u001b[39m(\u001b[38;5;124m\"\u001b[39m\u001b[38;5;124mwe shall ask you afew questions to get to know you\u001b[39m\u001b[38;5;124m\"\u001b[39m)\n\u001b[0;32m     15\u001b[0m \u001b[38;5;28mprint\u001b[39m(\u001b[38;5;124m\"\u001b[39m\u001b[38;5;124mplease aswer the questions as truthfully as possible!!\u001b[39m\u001b[38;5;124m\"\u001b[39m)\n\u001b[1;32m---> 16\u001b[0m name,age,height,weight,bmi \u001b[38;5;241m=\u001b[39m \u001b[43mbiodata\u001b[49m\u001b[43m(\u001b[49m\u001b[43m)\u001b[49m\n",
      "Cell \u001b[1;32mIn[4], line 7\u001b[0m, in \u001b[0;36mbiodata\u001b[1;34m()\u001b[0m\n\u001b[0;32m      5\u001b[0m age  \u001b[38;5;241m=\u001b[39m \u001b[38;5;28minput\u001b[39m(\u001b[38;5;124m\"\u001b[39m\u001b[38;5;124mwhat is your age:\u001b[39m\u001b[38;5;124m\"\u001b[39m)\n\u001b[0;32m      6\u001b[0m height \u001b[38;5;241m=\u001b[39m \u001b[38;5;28minput\u001b[39m(\u001b[38;5;124m\"\u001b[39m\u001b[38;5;124mwhat is your height in meters:\u001b[39m\u001b[38;5;124m\"\u001b[39m)\n\u001b[1;32m----> 7\u001b[0m \u001b[38;5;28;01mwhile\u001b[39;00m \u001b[43mheight\u001b[49m\u001b[38;5;241;43m>\u001b[39;49m\u001b[38;5;241;43m2.3\u001b[39;49m:\n\u001b[0;32m      8\u001b[0m     height \u001b[38;5;241m=\u001b[39m \u001b[38;5;28minput\u001b[39m(\u001b[38;5;124m\"\u001b[39m\u001b[38;5;124mwhat is your height in meters (please confirm your answer):\u001b[39m\u001b[38;5;124m\"\u001b[39m)\n\u001b[0;32m      9\u001b[0m weight \u001b[38;5;241m=\u001b[39m \u001b[38;5;28minput\u001b[39m(\u001b[38;5;124m\"\u001b[39m\u001b[38;5;124mwhat is your weight in Kg\u001b[39m\u001b[38;5;124m\"\u001b[39m)\n",
      "\u001b[1;31mTypeError\u001b[0m: '>' not supported between instances of 'str' and 'float'"
     ]
    }
   ],
   "source": [
    "# A game about an explorer\n",
    "\n",
    "def biodata():\n",
    "    name = input(\"what is your names\")\n",
    "    age  = input(\"what is your age:\")\n",
    "    height = input(\"what is your height in meters:\")\n",
    "    height = float(height)\n",
    "    while height>2.3:\n",
    "        height = input(\"what is your height in meters (please confirm your answer):\")\n",
    "    weight = input(\"what is your weight in Kg\")\n",
    "    bmi = weight/height**2\n",
    "    return name,age, height,weight,bmi\n",
    "\n",
    "print(\"welcome explorer to our BMI game\")\n",
    "print(\"we shall ask you afew questions to get to know you\")\n",
    "print(\"please aswer the questions as truthfully as possible!!\")\n",
    "name,age,height,weight,bmi = biodata()"
   ]
  },
  {
   "cell_type": "code",
   "execution_count": null,
   "id": "99905094-3c09-4022-9083-ff4156be7c34",
   "metadata": {},
   "outputs": [],
   "source": []
  }
 ],
 "metadata": {
  "kernelspec": {
   "display_name": "Python 3 (ipykernel)",
   "language": "python",
   "name": "python3"
  },
  "language_info": {
   "codemirror_mode": {
    "name": "ipython",
    "version": 3
   },
   "file_extension": ".py",
   "mimetype": "text/x-python",
   "name": "python",
   "nbconvert_exporter": "python",
   "pygments_lexer": "ipython3",
   "version": "3.11.4"
  }
 },
 "nbformat": 4,
 "nbformat_minor": 5
}
