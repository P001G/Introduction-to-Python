{
 "cells": [
  {
   "cell_type": "code",
   "execution_count": 5,
   "id": "733afb3d-b319-46a9-bed0-b0bdcec88526",
   "metadata": {},
   "outputs": [],
   "source": [
    "# how to use random\n",
    "import random\n",
    "salary = [random.randint(1000,10000) for i in range(40)]\n"
   ]
  },
  {
   "cell_type": "code",
   "execution_count": 8,
   "id": "6f7673a7-8acd-4b21-bb6e-00bf0bb8dfc7",
   "metadata": {},
   "outputs": [
    {
     "data": {
      "text/plain": [
       "12604"
      ]
     },
     "execution_count": 8,
     "metadata": {},
     "output_type": "execute_result"
    }
   ],
   "source": [
    "total = salary[0]+salary[1]+salary[3]\n",
    "total"
   ]
  },
  {
   "cell_type": "code",
   "execution_count": 7,
   "id": "0a01a016-53d2-4e2d-8f80-33ebf60b8d73",
   "metadata": {},
   "outputs": [
    {
     "name": "stdout",
     "output_type": "stream",
     "text": [
      "209534\n"
     ]
    }
   ],
   "source": [
    "# for loops - what are for loops\n",
    "# a way of checking through a list one by one\n",
    "total = 0\n",
    "for sal in salary:\n",
    "    total+=sal\n",
    "print(total)"
   ]
  },
  {
   "cell_type": "code",
   "execution_count": null,
   "id": "a2c447b9-54f1-4880-ac28-af8d3d299763",
   "metadata": {},
   "outputs": [],
   "source": [
    "# conditionals"
   ]
  },
  {
   "cell_type": "code",
   "execution_count": 2,
   "id": "fa8eca8e-8dab-48ac-8386-778479ae6727",
   "metadata": {},
   "outputs": [],
   "source": [
    "# functions"
   ]
  },
  {
   "cell_type": "code",
   "execution_count": null,
   "id": "fedbe576-ad75-4bf1-b928-94b2d3e1ae70",
   "metadata": {},
   "outputs": [],
   "source": [
    "# "
   ]
  }
 ],
 "metadata": {
  "kernelspec": {
   "display_name": "Python 3 (ipykernel)",
   "language": "python",
   "name": "python3"
  },
  "language_info": {
   "codemirror_mode": {
    "name": "ipython",
    "version": 3
   },
   "file_extension": ".py",
   "mimetype": "text/x-python",
   "name": "python",
   "nbconvert_exporter": "python",
   "pygments_lexer": "ipython3",
   "version": "3.11.4"
  }
 },
 "nbformat": 4,
 "nbformat_minor": 5
}
