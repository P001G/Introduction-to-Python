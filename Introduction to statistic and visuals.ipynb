{
 "cells": [
  {
   "cell_type": "code",
   "execution_count": 1,
   "metadata": {},
   "outputs": [],
   "source": [
    "# next time we can look at statistics  - measures of central tendency and measures of dispersion\n",
    "#- Measure of central tendency  - calculate/ some measures of dispersion\n",
    "# popular graphs/plots ( check for each type of data the best plot for it)\n",
    "#  - one numeric column -  scatter (swarm plot),histogram, box plot\n",
    "#  - two numeric columns  - scatter plot or box plots\n",
    "#  - one numeric and one categorical # a bar chart or a pie chart\n",
    "#  - multivariae - stacked plots and more advanced plot  - faceting and they include multiple geometric features\n",
    "#  - time series data  - line plot\n",
    "# how to create plots in Matplotlib.pyplot and seaboirn"
   ]
  },
  {
   "cell_type": "code",
   "execution_count": null,
   "metadata": {},
   "outputs": [],
   "source": [
    "# a real dataset and go through the analysis  - evaluate and visualize\n",
    "# hypothesis and statistical tests"
   ]
  },
  {
   "cell_type": "code",
   "execution_count": null,
   "metadata": {},
   "outputs": [],
   "source": []
  }
 ],
 "metadata": {
  "kernelspec": {
   "display_name": "Python 3",
   "language": "python",
   "name": "python3"
  },
  "language_info": {
   "codemirror_mode": {
    "name": "ipython",
    "version": 3
   },
   "file_extension": ".py",
   "mimetype": "text/x-python",
   "name": "python",
   "nbconvert_exporter": "python",
   "pygments_lexer": "ipython3",
   "version": "3.12.3"
  }
 },
 "nbformat": 4,
 "nbformat_minor": 2
}
