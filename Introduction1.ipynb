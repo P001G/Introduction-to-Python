{
 "cells": [
  {
   "cell_type": "code",
   "execution_count": null,
   "metadata": {},
   "outputs": [
    {
     "name": "stdout",
     "output_type": "stream",
     "text": [
      "Hello, I am using python\n"
     ]
    }
   ],
   "source": [
    "print(\"Hello, I am using python\")"
   ]
  },
  {
   "cell_type": "code",
   "execution_count": null,
   "metadata": {},
   "outputs": [
    {
     "name": "stdout",
     "output_type": "stream",
     "text": [
      "<class 'float'>\n"
     ]
    }
   ],
   "source": [
    "a=1\n",
    "b=10\n",
    "a+b #a and b are integers\n",
    "c=10.5 #c is a float\n",
    "print (type(c))\n"
   ]
  },
  {
   "cell_type": "code",
   "execution_count": null,
   "metadata": {},
   "outputs": [
    {
     "name": "stdout",
     "output_type": "stream",
     "text": [
      "<class 'int'>\n"
     ]
    }
   ],
   "source": [
    "print(type(a))"
   ]
  },
  {
   "cell_type": "code",
   "execution_count": null,
   "metadata": {},
   "outputs": [
    {
     "name": "stdout",
     "output_type": "stream",
     "text": [
      "<class 'str'>\n"
     ]
    }
   ],
   "source": [
    "d=\"Paul m\"\n",
    "print(type(d))\n"
   ]
  },
  {
   "cell_type": "markdown",
   "metadata": {},
   "source": [
    "# Lists and dictionaries\n",
    "\n"
   ]
  },
  {
   "cell_type": "code",
   "execution_count": 2,
   "metadata": {},
   "outputs": [
    {
     "data": {
      "text/plain": [
       "[23, 'kamau', 3.7]"
      ]
     },
     "execution_count": 2,
     "metadata": {},
     "output_type": "execute_result"
    }
   ],
   "source": [
    "# a list is a collection of things\n",
    "names = [\"john\",\"alex\",\"wambui\",\"alicia\"]\n",
    "salary = [23555,2123,35416,19999]\n",
    "heights = [1.3,45,78,1]\n",
    "nameage = [\n",
    "    ['kamau','alex'],\n",
    "    [12,36]\n",
    "    ]\n",
    "mix = [23,\"kamau\",3.7]\n",
    "mix"
   ]
  },
  {
   "cell_type": "code",
   "execution_count": null,
   "metadata": {},
   "outputs": [],
   "source": [
    "# have some data/information\n",
    "# get a datastructure\n",
    "# maniulate the data\n",
    "# get outut  save outut   data structure, other other forms of media\n"
   ]
  },
  {
   "cell_type": "code",
   "execution_count": 21,
   "metadata": {},
   "outputs": [
    {
     "data": {
      "text/plain": [
       "'alicia'"
      ]
     },
     "execution_count": 21,
     "metadata": {},
     "output_type": "execute_result"
    }
   ],
   "source": [
    "# indexing\n",
    "names = [\"john\",\"alex\",\"wambui\",\"alicia\"] # indexing starts at zero\n",
    "# index\n",
    "names[1]\n",
    "names[3]\n",
    "# length\n",
    "len(names)# function\n",
    "# slicing\n",
    "names[1:3]\n",
    "names[3]\n"
   ]
  },
  {
   "cell_type": "code",
   "execution_count": 17,
   "metadata": {},
   "outputs": [
    {
     "data": {
      "text/plain": [
       "['john', 'wambui', 'alicia', 'smith']"
      ]
     },
     "execution_count": 17,
     "metadata": {},
     "output_type": "execute_result"
    }
   ],
   "source": [
    "# functions that you can use in lists\n",
    "names.append('smith') # add to a list\n",
    "names.pop(1)\n",
    "names"
   ]
  },
  {
   "cell_type": "code",
   "execution_count": 22,
   "metadata": {},
   "outputs": [
    {
     "name": "stdout",
     "output_type": "stream",
     "text": [
      "Object `names # more information on the objects` not found.\n"
     ]
    },
    {
     "data": {
      "text/plain": [
       "['alex', 'alicia', 'john', 'wambui']"
      ]
     },
     "execution_count": 22,
     "metadata": {},
     "output_type": "execute_result"
    }
   ],
   "source": [
    "?names # more information on the objects\n",
    "names.sort()\n",
    "names"
   ]
  },
  {
   "cell_type": "markdown",
   "metadata": {},
   "source": [
    "# <font color = 'darkgreen'>Assignment1</font>"
   ]
  },
  {
   "cell_type": "code",
   "execution_count": 25,
   "metadata": {},
   "outputs": [],
   "source": [
    "# create a list of ten names of your friend\n",
    "# print the last 3 friends\n",
    "# remove one of the friends\n",
    "# sort the list alphabetically\n",
    "# reverse the list\n",
    "# read more on the tuples,dictionaries,sets\n",
    "# attemt creating a dictionary, a tuple and a set"
   ]
  },
  {
   "cell_type": "markdown",
   "metadata": {},
   "source": [
    "# <font color = 'pink'>dictionaries</font>\n"
   ]
  },
  {
   "cell_type": "code",
   "execution_count": 24,
   "metadata": {},
   "outputs": [
    {
     "name": "stdout",
     "output_type": "stream",
     "text": [
      "2\n",
      "{'john': 27, 'kamau': 45}\n",
      "dict_keys(['john', 'kamau'])\n",
      "dict_values([27, 45])\n"
     ]
    }
   ],
   "source": [
    "# a dcitionaru is a key  value pair\n",
    "student = {'john':27,'kamau':45}\n",
    "print(len(student))\n",
    "print(student)\n",
    "print(student.keys())\n",
    "print(student.values())"
   ]
  },
  {
   "cell_type": "code",
   "execution_count": 13,
   "metadata": {},
   "outputs": [
    {
     "name": "stdout",
     "output_type": "stream",
     "text": [
      "[270, 50]\n",
      "320\n"
     ]
    }
   ],
   "source": [
    "# supermarket dictionary\n",
    "\n",
    "supermarket = {\n",
    "    'unga':270,'sugar':300,'sweets':50,'ruler':30\n",
    "}\n",
    "\n",
    "buy_items = ['unga','sweets'] # items that are bought\n",
    "\n",
    "# program that updates\n",
    "supermarket['unga']# when given the key -  the dictionary returns the value\n",
    "supermarket['sweets']\n",
    "purchases = [supermarket['unga'],supermarket['sweets']]\n",
    "total= supermarket['unga']+supermarket['sweets']\n",
    "print(purchases)\n",
    "print(total)\n"
   ]
  },
  {
   "cell_type": "code",
   "execution_count": 14,
   "metadata": {},
   "outputs": [
    {
     "name": "stdout",
     "output_type": "stream",
     "text": [
      "------------------------------------------------------------\n",
      "Pauls supermarket\n",
      "------------------------------------------------------------\n",
      "  Item   Amount  \n",
      "  ----   -----  \n",
      "  Unga   270\n",
      "  sweets 50\n",
      "------------------------------------------------------------\n",
      "  Total 320\n",
      "------------------------------------------------------------\n"
     ]
    }
   ],
   "source": [
    "# print a receipt\n",
    "print('--'*30)\n",
    "print('Pauls supermarket')\n",
    "print('--'*30)\n",
    "print(\"  Item   Amount  \")\n",
    "print(\"  ----   -----  \")\n",
    "print('  Unga  ',supermarket['unga'])\n",
    "print('  sweets',supermarket['sweets'])\n",
    "print('--'*30)\n",
    "print('  Total',total)\n",
    "print('--'*30)\n"
   ]
  },
  {
   "cell_type": "code",
   "execution_count": null,
   "metadata": {},
   "outputs": [],
   "source": [
    "\n",
    "# brief assignment\n",
    "# update the dictionary with 10 products\n",
    "# create a purchase list with 7 products\n",
    "# print the receipts for that\n",
    "# try including more than one item - buy two ungas"
   ]
  },
  {
   "cell_type": "code",
   "execution_count": 19,
   "metadata": {},
   "outputs": [
    {
     "name": "stdout",
     "output_type": "stream",
     "text": [
      "<class 'list'>\n",
      "<class 'set'>\n"
     ]
    }
   ],
   "source": [
    "# tuples\n",
    "# they a re a special form of lists -  they immutatable\n",
    "names = ('john','kamau','paul')\n",
    "names[0] #you can use the indexing ( you cannot append)\n",
    "# sets\n",
    "# a set is a collection of object - similar to a list but contains only unique values\n",
    "names = ['john','alex','alice','aaron','alex']\n",
    "names_set ={'john','alex','alice','aaron','alex'}\n",
    "other_names = {'john','alex','paul','catherine'}\n",
    "print(type(names))\n",
    "print(type(names_set))"
   ]
  },
  {
   "cell_type": "code",
   "execution_count": 26,
   "metadata": {},
   "outputs": [
    {
     "data": {
      "text/plain": [
       "{'alex', 'john'}"
      ]
     },
     "execution_count": 26,
     "metadata": {},
     "output_type": "execute_result"
    }
   ],
   "source": [
    "names_set.intersection(other_names)"
   ]
  },
  {
   "cell_type": "code",
   "execution_count": 27,
   "metadata": {},
   "outputs": [
    {
     "data": {
      "text/plain": [
       "{'aaron', 'alex', 'alice', 'catherine', 'john', 'paul'}"
      ]
     },
     "execution_count": 27,
     "metadata": {},
     "output_type": "execute_result"
    }
   ],
   "source": [
    "names_set.union(other_names)"
   ]
  },
  {
   "cell_type": "code",
   "execution_count": null,
   "metadata": {},
   "outputs": [],
   "source": [
    "# assignment -\n",
    "# create a 10 tuple with two names per person (('john','kamau'),('paul','musyoki'))\n",
    "# create a set of numbers\n",
    "# create anotehr set of numbers\n",
    "# check their intersection, their union and their difference\n"
   ]
  }
 ],
 "metadata": {
  "kernelspec": {
   "display_name": "Python 3 (ipykernel)",
   "language": "python",
   "name": "python3"
  },
  "language_info": {
   "codemirror_mode": {
    "name": "ipython",
    "version": 3
   },
   "file_extension": ".py",
   "mimetype": "text/x-python",
   "name": "python",
   "nbconvert_exporter": "python",
   "pygments_lexer": "ipython3",
   "version": "3.11.4"
  }
 },
 "nbformat": 4,
 "nbformat_minor": 4
}
